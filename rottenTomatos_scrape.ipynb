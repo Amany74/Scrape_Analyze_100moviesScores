{
 "cells": [
  {
   "cell_type": "code",
   "execution_count": 224,
   "metadata": {},
   "outputs": [],
   "source": [
    "from bs4 import BeautifulSoup\n",
    "import os\n",
    "import pandas as pd"
   ]
  },
  {
   "cell_type": "code",
   "execution_count": 229,
   "metadata": {},
   "outputs": [],
   "source": [
    "df_list = []\n",
    "folder = 'rt_html'\n",
    "\n",
    "for movie in os.listdir(folder): #list of all names in the folder dir\n",
    "    with open(os.path.join(folder, movie)) as file: # open each file as if we are getting request > response\n",
    "        #passing response file to the constructor of beautiful soup\n",
    "        soup = BeautifulSoup(file,'lxml')\n",
    "        # Note: a correct implementation may take ~15 seconds to run\n",
    "        title = soup.find('title').contents[0][:-len(' - Rotten Tomatoes')] # getting title of each movie in each response page , find contents returns list\n",
    "        audience_score =  soup.find('div' , {'class': 'audience-score meter'}).find('span').contents[0][:-1]\n",
    "        num_audience_ratings = soup.find('div' , {'class': 'audience-info hidden-xs superPageFontColor'})\n",
    "        num_audience_ratings = num_audience_ratings.find_all('div')[1].contents[2].strip().replace(',','')\n",
    "        critic = soup.find('div', class_ =\"critic-score meter\").find_all('span')[1].contents[0].contents[0]\n",
    "        df_list.append({'title': title,\n",
    "                        'audience_score': int(audience_score),\n",
    "                        'number_of_audience_ratings': int(num_audience_ratings),\n",
    "                        'critic':int(critic)\n",
    "                    })\n",
    "\n",
    "\n"
   ]
  },
  {
   "cell_type": "code",
   "execution_count": 230,
   "metadata": {},
   "outputs": [
    {
     "data": {
      "text/html": [
       "<div>\n",
       "<style scoped>\n",
       "    .dataframe tbody tr th:only-of-type {\n",
       "        vertical-align: middle;\n",
       "    }\n",
       "\n",
       "    .dataframe tbody tr th {\n",
       "        vertical-align: top;\n",
       "    }\n",
       "\n",
       "    .dataframe thead th {\n",
       "        text-align: right;\n",
       "    }\n",
       "</style>\n",
       "<table border=\"1\" class=\"dataframe\">\n",
       "  <thead>\n",
       "    <tr style=\"text-align: right;\">\n",
       "      <th></th>\n",
       "      <th>title</th>\n",
       "      <th>audience_score</th>\n",
       "      <th>number_of_audience_ratings</th>\n",
       "      <th>critic</th>\n",
       "    </tr>\n",
       "  </thead>\n",
       "  <tbody>\n",
       "    <tr>\n",
       "      <th>0</th>\n",
       "      <td>12 Angry Men (Twelve Angry Men) (1957)</td>\n",
       "      <td>97</td>\n",
       "      <td>103672</td>\n",
       "      <td>100</td>\n",
       "    </tr>\n",
       "    <tr>\n",
       "      <th>1</th>\n",
       "      <td>The 39 Steps (1935)</td>\n",
       "      <td>86</td>\n",
       "      <td>23647</td>\n",
       "      <td>98</td>\n",
       "    </tr>\n",
       "    <tr>\n",
       "      <th>2</th>\n",
       "      <td>The Adventures of Robin Hood (1938)</td>\n",
       "      <td>89</td>\n",
       "      <td>33584</td>\n",
       "      <td>100</td>\n",
       "    </tr>\n",
       "    <tr>\n",
       "      <th>3</th>\n",
       "      <td>All About Eve (1950)</td>\n",
       "      <td>94</td>\n",
       "      <td>44564</td>\n",
       "      <td>100</td>\n",
       "    </tr>\n",
       "    <tr>\n",
       "      <th>4</th>\n",
       "      <td>All Quiet on the Western Front (1930)</td>\n",
       "      <td>89</td>\n",
       "      <td>17768</td>\n",
       "      <td>100</td>\n",
       "    </tr>\n",
       "    <tr>\n",
       "      <th>5</th>\n",
       "      <td>Casablanca (1942)</td>\n",
       "      <td>95</td>\n",
       "      <td>355952</td>\n",
       "      <td>97</td>\n",
       "    </tr>\n",
       "    <tr>\n",
       "      <th>6</th>\n",
       "      <td>Frankenstein (1931)</td>\n",
       "      <td>87</td>\n",
       "      <td>41140</td>\n",
       "      <td>100</td>\n",
       "    </tr>\n",
       "    <tr>\n",
       "      <th>7</th>\n",
       "      <td>King Kong (1933)</td>\n",
       "      <td>86</td>\n",
       "      <td>89669</td>\n",
       "      <td>98</td>\n",
       "    </tr>\n",
       "    <tr>\n",
       "      <th>8</th>\n",
       "      <td>Laura (1944)</td>\n",
       "      <td>91</td>\n",
       "      <td>10481</td>\n",
       "      <td>100</td>\n",
       "    </tr>\n",
       "    <tr>\n",
       "      <th>9</th>\n",
       "      <td>M (1931)</td>\n",
       "      <td>95</td>\n",
       "      <td>35778</td>\n",
       "      <td>100</td>\n",
       "    </tr>\n",
       "  </tbody>\n",
       "</table>\n",
       "</div>"
      ],
      "text/plain": [
       "                                    title  audience_score  \\\n",
       "0  12 Angry Men (Twelve Angry Men) (1957)              97   \n",
       "1                     The 39 Steps (1935)              86   \n",
       "2     The Adventures of Robin Hood (1938)              89   \n",
       "3                    All About Eve (1950)              94   \n",
       "4   All Quiet on the Western Front (1930)              89   \n",
       "5                       Casablanca (1942)              95   \n",
       "6                     Frankenstein (1931)              87   \n",
       "7                        King Kong (1933)              86   \n",
       "8                            Laura (1944)              91   \n",
       "9                                M (1931)              95   \n",
       "\n",
       "   number_of_audience_ratings  critic  \n",
       "0                      103672     100  \n",
       "1                       23647      98  \n",
       "2                       33584     100  \n",
       "3                       44564     100  \n",
       "4                       17768     100  \n",
       "5                      355952      97  \n",
       "6                       41140     100  \n",
       "7                       89669      98  \n",
       "8                       10481     100  \n",
       "9                       35778     100  "
      ]
     },
     "execution_count": 230,
     "metadata": {},
     "output_type": "execute_result"
    }
   ],
   "source": [
    "df = pd.DataFrame(df_list, columns = ['title', 'audience_score', 'number_of_audience_ratings','critic'])\n",
    "df.head(10)"
   ]
  },
  {
   "cell_type": "code",
   "execution_count": 231,
   "metadata": {},
   "outputs": [
    {
     "data": {
      "image/png": "[encoded data removed]",
      "text/plain": [
       "<Figure size 1440x720 with 1 Axes>"
      ]
     },
     "metadata": {
      "needs_background": "light"
     },
     "output_type": "display_data"
    }
   ],
   "source": [
    "import numpy as np\n",
    "import matplotlib.pyplot as plt\n",
    "mean_aud = [np.ceil(np.mean(df.audience_score))] * len(df.audience_score)\n",
    "mean_cri = [np.ceil(np.mean(df.critic))] * len(df.critic)\n",
    "fig, ax = plt.subplots(figsize=(20,10))\n",
    "ax.scatter(df.audience_score, df.critic, label='scatter plot')\n",
    "ax.plot(mean_aud,df.critic, color='red', ls='--', label=\"average audience scores\")\n",
    "ax.plot(df.audience_score,mean_cri, color='green', ls='--', label=\"average critic scores\")\n",
    "plt.title('Audience Scores Vs Critic Scores',fontsize=30,color='green')\n",
    "plt.xlabel('Audience Scores',fontsize=20)\n",
    "plt.ylabel('Critic Scores',fontsize=20)\n",
    "plt.legend(loc=1)\n",
    "plt.show()"
   ]
  }
 ],
 "metadata": {
  "interpreter": {
   "hash": "b8605d80b8819e18d5d391d0da77bd7c8136a2c889cb1bac809e51d7577dfad4"
  },
  "kernelspec": {
   "display_name": "Python 3.8.2 32-bit",
   "name": "python3"
  },
  "language_info": {
   "codemirror_mode": {
    "name": "ipython",
    "version": 3
   },
   "file_extension": ".py",
   "mimetype": "text/x-python",
   "name": "python",
   "nbconvert_exporter": "python",
   "pygments_lexer": "ipython3",
   "version": "3.8.2"
  },
  "orig_nbformat": 4
 },
 "nbformat": 4,
 "nbformat_minor": 2
}
